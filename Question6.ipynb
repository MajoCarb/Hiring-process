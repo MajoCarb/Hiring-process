{
 "cells": [
  {
   "cell_type": "markdown",
   "metadata": {},
   "source": [
    "## Question 6\n",
    "### **Write a Python program that turns the information from this link https://analytics.usa.gov/data/live/realtime.json into a table. Extra point: If you had to gather the information for this website, how would you do it?**\n"
   ]
  },
  {
   "cell_type": "markdown",
   "metadata": {},
   "source": [
    "#### To be honest, I have no clue of how could I make prettier the table I got, .I could't find a way to distribute the lists and dictionaries nested.\n",
    "#### Extra point: I know there are some web technologies that allow us to get the page information (like active users right now), and with that information we could create an API service in which it could be saved all those data"
   ]
  },
  {
   "cell_type": "code",
   "execution_count": 7,
   "metadata": {},
   "outputs": [],
   "source": [
    "import requests\n",
    "from bs4 import BeautifulSoup\n",
    "import json\n",
    "import pandas as pd\n",
    "url = 'https://analytics.usa.gov/data/live/realtime.json'\n"
   ]
  },
  {
   "cell_type": "code",
   "execution_count": 8,
   "metadata": {},
   "outputs": [
    {
     "name": "stdout",
     "output_type": "stream",
     "text": [
      "{\n",
      "  \"name\": \"realtime\",\n",
      "  \"sampling\": {},\n",
      "  \"query\": {\n",
      "    \"metrics\": [\n",
      "      \"rt:activeUsers\"\n",
      "    ],\n",
      "    \"max-results\": 10000\n",
      "  },\n",
      "  \"meta\": {\n",
      "    \"name\": \"Active Users Right Now\",\n",
      "    \"description\": \"Number of users currently visiting all sites.\"\n",
      "  },\n",
      "  \"data\": [\n",
      "    {\n",
      "      \"active_visitors\": \"260021\"\n",
      "    }\n",
      "  ],\n",
      "  \"totals\": {},\n",
      "  \"taken_at\": \"2022-02-07T01:16:36.305Z\"\n",
      "}\n"
     ]
    }
   ],
   "source": [
    "page = requests.get(url)\n",
    "soup = BeautifulSoup(page.text, 'html.parser')\n",
    "print(soup.text)\n",
    "#is this a nested dict?"
   ]
  },
  {
   "cell_type": "code",
   "execution_count": 9,
   "metadata": {},
   "outputs": [
    {
     "name": "stdout",
     "output_type": "stream",
     "text": [
      "{'name': 'realtime', 'sampling': {}, 'query': {'metrics': ['rt:activeUsers'], 'max-results': 10000}, 'meta': {'name': 'Active Users Right Now', 'description': 'Number of users currently visiting all sites.'}, 'data': [{'active_visitors': '260021'}], 'totals': {}, 'taken_at': '2022-02-07T01:16:36.305Z'}\n"
     ]
    }
   ],
   "source": [
    "#I got the text content of soup and then, converted it into a json object\n",
    "json_string = soup.text\n",
    "#print(json_string)\n",
    "json_obj = json.loads(json_string)\n",
    "print(json_obj)"
   ]
  },
  {
   "cell_type": "code",
   "execution_count": 10,
   "metadata": {},
   "outputs": [],
   "source": [
    "#I decided to work with the json object as a file\n",
    "with open('json_obj', 'w') as file:\n",
    "    json.dump(json_obj, file, indent=4)"
   ]
  },
  {
   "cell_type": "code",
   "execution_count": 11,
   "metadata": {},
   "outputs": [
    {
     "name": "stdout",
     "output_type": "stream",
     "text": [
      "{'name': 'realtime', 'sampling': {}, 'query': {'metrics': ['rt:activeUsers'], 'max-results': 10000}, 'meta': {'name': 'Active Users Right Now', 'description': 'Number of users currently visiting all sites.'}, 'data': [{'active_visitors': '260021'}], 'totals': {}, 'taken_at': '2022-02-07T01:16:36.305Z'}\n"
     ]
    },
    {
     "data": {
      "text/html": [
       "<div>\n",
       "<style scoped>\n",
       "    .dataframe tbody tr th:only-of-type {\n",
       "        vertical-align: middle;\n",
       "    }\n",
       "\n",
       "    .dataframe tbody tr th {\n",
       "        vertical-align: top;\n",
       "    }\n",
       "\n",
       "    .dataframe thead th {\n",
       "        text-align: right;\n",
       "    }\n",
       "</style>\n",
       "<table border=\"1\" class=\"dataframe\">\n",
       "  <thead>\n",
       "    <tr style=\"text-align: right;\">\n",
       "      <th></th>\n",
       "      <th>name</th>\n",
       "      <th>data</th>\n",
       "      <th>taken_at</th>\n",
       "      <th>query.metrics</th>\n",
       "      <th>query.max-results</th>\n",
       "      <th>meta.name</th>\n",
       "      <th>meta.description</th>\n",
       "    </tr>\n",
       "  </thead>\n",
       "  <tbody>\n",
       "    <tr>\n",
       "      <th>0</th>\n",
       "      <td>realtime</td>\n",
       "      <td>[{'active_visitors': '260021'}]</td>\n",
       "      <td>2022-02-07T01:16:36.305Z</td>\n",
       "      <td>[rt:activeUsers]</td>\n",
       "      <td>10000</td>\n",
       "      <td>Active Users Right Now</td>\n",
       "      <td>Number of users currently visiting all sites.</td>\n",
       "    </tr>\n",
       "  </tbody>\n",
       "</table>\n",
       "</div>"
      ],
      "text/plain": [
       "       name                             data                  taken_at  \\\n",
       "0  realtime  [{'active_visitors': '260021'}]  2022-02-07T01:16:36.305Z   \n",
       "\n",
       "      query.metrics  query.max-results               meta.name  \\\n",
       "0  [rt:activeUsers]              10000  Active Users Right Now   \n",
       "\n",
       "                                meta.description  \n",
       "0  Number of users currently visiting all sites.  "
      ]
     },
     "execution_count": 11,
     "metadata": {},
     "output_type": "execute_result"
    }
   ],
   "source": [
    "with open('json_obj') as file:\n",
    "    data = json.load(file)\n",
    "\n",
    "print(data)\n",
    "df = pd.json_normalize(data)\n",
    "df\n"
   ]
  },
  {
   "cell_type": "code",
   "execution_count": 12,
   "metadata": {},
   "outputs": [
    {
     "name": "stdout",
     "output_type": "stream",
     "text": [
      "<class 'pandas.core.frame.DataFrame'>\n",
      "RangeIndex: 1 entries, 0 to 0\n",
      "Data columns (total 7 columns):\n",
      " #   Column             Non-Null Count  Dtype \n",
      "---  ------             --------------  ----- \n",
      " 0   name               1 non-null      object\n",
      " 1   data               1 non-null      object\n",
      " 2   taken_at           1 non-null      object\n",
      " 3   query.metrics      1 non-null      object\n",
      " 4   query.max-results  1 non-null      int64 \n",
      " 5   meta.name          1 non-null      object\n",
      " 6   meta.description   1 non-null      object\n",
      "dtypes: int64(1), object(6)\n",
      "memory usage: 184.0+ bytes\n"
     ]
    }
   ],
   "source": [
    "df.info()"
   ]
  }
 ],
 "metadata": {
  "kernelspec": {
   "display_name": "Python 3",
   "language": "python",
   "name": "python3"
  },
  "language_info": {
   "codemirror_mode": {
    "name": "ipython",
    "version": 3
   },
   "file_extension": ".py",
   "mimetype": "text/x-python",
   "name": "python",
   "nbconvert_exporter": "python",
   "pygments_lexer": "ipython3",
   "version": "3.7.6"
  }
 },
 "nbformat": 4,
 "nbformat_minor": 4
}
