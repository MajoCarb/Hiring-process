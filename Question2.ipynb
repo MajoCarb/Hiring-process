{
 "cells": [
  {
   "cell_type": "markdown",
   "metadata": {},
   "source": [
    "### Write a Python program to test if a given page is found or not on the server."
   ]
  },
  {
   "cell_type": "code",
   "execution_count": 4,
   "metadata": {},
   "outputs": [],
   "source": [
    "#This is the easiest way I could do, by using urllib. I it exists, it will print the html file\n",
    "\n",
    "from urllib.request import urlopen\n",
    "from urllib.error import HTTPError\n",
    "from urllib.error import URLError\n",
    "\n",
    "try:\n",
    "    html = urlopen(\"https://www.facebook.com/\")\n",
    "except HTTPError as e:\n",
    "    print(\"HTTP error\")\n",
    "except URLError as e:\n",
    "    print(\"Server not found!\")\n",
    "else:\n",
    "    print(html.read())"
   ]
  },
  {
   "cell_type": "code",
   "execution_count": 6,
   "metadata": {},
   "outputs": [
    {
     "name": "stdout",
     "output_type": "stream",
     "text": [
      "0\n",
      "exists\n",
      "True\n"
     ]
    }
   ],
   "source": [
    "# Install module \"socket\" by typing \"pip install sockets\"\n",
    "# Do not write \"https://\", only the domain and extension\n",
    "import socket\n",
    "\n",
    "def host_existe(host):\n",
    "    \n",
    "    sock = socket.socket(socket.AF_INET, socket.SOCK_STREAM)#IPV4    \n",
    "    \n",
    "    try: \n",
    "        resultado = sock.connect_ex((host,80))\n",
    "        print(resultado) #if the result is zero, then the host exists\n",
    "        if resultado == 0:\n",
    "            print(\"exists\")\n",
    "            return True\n",
    "        else:\n",
    "            print(\"doesn't exist\")\n",
    "            return False\n",
    "    except Exception:\n",
    "        print(\"exception\")\n",
    "        return False\n",
    "            \n",
    "h = \"github.com\"\n",
    "print(host_existe(h))"
   ]
  },
  {
   "cell_type": "code",
   "execution_count": 7,
   "metadata": {},
   "outputs": [
    {
     "name": "stdout",
     "output_type": "stream",
     "text": [
      "tukanmx.com is up\n"
     ]
    }
   ],
   "source": [
    "#another way to check if a serever is up, could be pinging to it\n",
    "import subprocess\n",
    "\n",
    "host= (\"tukanmx.com\") # Si\n",
    "#host= (\"googlesss.com\") # No\n",
    "\n",
    "def ping(host):\n",
    "    p = subprocess.Popen(['ping', '-n', '2', '-w', '2', host])\n",
    "    p.wait()\n",
    "    return f'{host} is up' if p.poll()==0 else f'{host} is not up'\n",
    "\n",
    "print(ping(host))"
   ]
  },
  {
   "cell_type": "code",
   "execution_count": null,
   "metadata": {},
   "outputs": [],
   "source": []
  }
 ],
 "metadata": {
  "kernelspec": {
   "display_name": "Python 3",
   "language": "python",
   "name": "python3"
  },
  "language_info": {
   "codemirror_mode": {
    "name": "ipython",
    "version": 3
   },
   "file_extension": ".py",
   "mimetype": "text/x-python",
   "name": "python",
   "nbconvert_exporter": "python",
   "pygments_lexer": "ipython3",
   "version": "3.7.6"
  }
 },
 "nbformat": 4,
 "nbformat_minor": 4
}
